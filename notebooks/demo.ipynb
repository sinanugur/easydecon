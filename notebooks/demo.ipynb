{
 "cells": [
  {
   "cell_type": "code",
   "execution_count": null,
   "metadata": {},
   "outputs": [],
   "source": [
    "\n",
    "import spatialdata as sd\n",
    "import scanpy as sc\n",
    "import pandas as pd\n",
    "import matplotlib.pyplot as plt\n",
    "from spatialdata import get_extent\n",
    "from spatialdata import bounding_box_query\n",
    "from spatialdata import match_element_to_table\n",
    "import pickle\n",
    "import squidpy as sq\n",
    "import celltypist\n",
    "from celltypist import models\n",
    "import numpy as np\n",
    "import matplotlib.cm as cm\n",
    "from matplotlib.colors import LinearSegmentedColormap\n",
    "pd.set_option('display.max_rows', 500)\n",
    "import copy\n",
    "from datatree import DataTree\n",
    "from scipy.stats import spearmanr\n",
    "from scipy.spatial.distance import cosine\n",
    "from sklearn.neighbors import KernelDensity\n",
    "from numba import jit"
   ]
  },
  {
   "cell_type": "code",
   "execution_count": null,
   "metadata": {},
   "outputs": [],
   "source": [
    "%reload_ext autoreload\n",
    "%autoreload 2\n",
    "from easydecon.easydecon.easydecon import *\n",
    "test_function()"
   ]
  }
 ],
 "metadata": {
  "language_info": {
   "name": "python"
  }
 },
 "nbformat": 4,
 "nbformat_minor": 2
}
