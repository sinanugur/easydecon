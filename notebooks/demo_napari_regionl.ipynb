{
 "cells": [
  {
   "cell_type": "code",
   "execution_count": null,
   "metadata": {},
   "outputs": [],
   "source": [
    "import spatialdata as sd\n",
    "import scanpy as sc\n",
    "import pandas as pd\n",
    "import matplotlib.pyplot as plt\n",
    "from spatialdata import get_extent\n",
    "from spatialdata import bounding_box_query\n",
    "from spatialdata import match_element_to_table\n",
    "import spatialdata_plot\n",
    "import numpy as np\n",
    "import matplotlib.cm as cm\n",
    "from matplotlib.colors import LinearSegmentedColormap\n",
    "from datatree import DataTree\n",
    "from scipy.stats import spearmanr\n",
    "from scipy.spatial.distance import cosine\n",
    "from sklearn.neighbors import KernelDensity\n",
    "from easydecon.easydecon import *\n",
    "from easydecon.config import *\n",
    "from spatialdata_plot.pl.utils import set_zero_in_cmap_to_transparent\n",
    "#import seaborn as sns\n",
    "#import colorcet as cc\n",
    "from matplotlib.colors import ListedColormap\n",
    "from scipy.stats import zscore\n",
    "\n",
    "pd.set_option('display.max_rows', 500)\n",
    "\n",
    "from napari_spatialdata import Interactive\n",
    "from spatialdata import polygon_query"
   ]
  },
  {
   "cell_type": "code",
   "execution_count": null,
   "metadata": {},
   "outputs": [],
   "source": [
    "%reload_ext autoreload\n",
    "%autoreload 2\n",
    "from easydecon.easydecon import *\n",
    "from easydecon.easydecon import *\n",
    "test_function()"
   ]
  },
  {
   "cell_type": "code",
   "execution_count": null,
   "metadata": {},
   "outputs": [],
   "source": [
    "bin_size=8\n",
    "sample_id=\"sampleP2\"\n",
    "\n",
    "# you want to replace the binned_outputs with the path to the binned outputs of the visium HD data and fullres_image_file with the path to the full resolution SCANNER image\n",
    "sdata=spatialdata_io.visium_hd(\"../../sampleP2/binned_outputs/\",\n",
    "                               bin_size=bin_size,dataset_id=sample_id,load_all_images=True)\n",
    "sdata"
   ]
  },
  {
   "cell_type": "code",
   "execution_count": null,
   "metadata": {},
   "outputs": [],
   "source": [
    "Interactive(sdata)"
   ]
  },
  {
   "cell_type": "code",
   "execution_count": null,
   "metadata": {},
   "outputs": [],
   "source": [
    "sdata"
   ]
  },
  {
   "cell_type": "code",
   "execution_count": null,
   "metadata": {},
   "outputs": [],
   "source": [
    "sdata[\"Shapes_external\"].geometry.iloc[0]"
   ]
  },
  {
   "cell_type": "code",
   "execution_count": null,
   "metadata": {},
   "outputs": [],
   "source": [
    "napari_region_assignment(sdata,key=\"Shapes_external\",column=\"napari2\",target_coordinate_system=\"downscaled_hires\")"
   ]
  },
  {
   "cell_type": "code",
   "execution_count": null,
   "metadata": {},
   "outputs": [],
   "source": [
    "sdata.tables[f\"square_00{bin_size}um\"].obs[\"napari\"]"
   ]
  }
 ],
 "metadata": {
  "kernelspec": {
   "display_name": "easydecon_test1",
   "language": "python",
   "name": "python3"
  },
  "language_info": {
   "codemirror_mode": {
    "name": "ipython",
    "version": 3
   },
   "file_extension": ".py",
   "mimetype": "text/x-python",
   "name": "python",
   "nbconvert_exporter": "python",
   "pygments_lexer": "ipython3",
   "version": "3.11.10"
  }
 },
 "nbformat": 4,
 "nbformat_minor": 2
}
