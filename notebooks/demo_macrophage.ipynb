{
 "cells": [
  {
   "cell_type": "code",
   "execution_count": null,
   "metadata": {},
   "outputs": [],
   "source": [
    "import spatialdata as sd\n",
    "import scanpy as sc\n",
    "import pandas as pd\n",
    "import matplotlib.pyplot as plt\n",
    "from spatialdata import get_extent\n",
    "from spatialdata import bounding_box_query\n",
    "from spatialdata import match_element_to_table\n",
    "import spatialdata_plot\n",
    "import numpy as np\n",
    "import matplotlib.cm as cm\n",
    "from matplotlib.colors import LinearSegmentedColormap\n",
    "from datatree import DataTree\n",
    "from scipy.stats import spearmanr\n",
    "from scipy.spatial.distance import cosine\n",
    "from sklearn.neighbors import KernelDensity\n",
    "from easydecon.easydecon import *\n",
    "from easydecon.config import *\n",
    "from spatialdata_plot.pl.utils import set_zero_in_cmap_to_transparent\n",
    "\n",
    "\n",
    "\n",
    "pd.set_option('display.max_rows', 500)"
   ]
  },
  {
   "cell_type": "code",
   "execution_count": null,
   "metadata": {},
   "outputs": [],
   "source": [
    "bin_size=8\n",
    "sample_id=\"sampleP2\"\n",
    "\n",
    "sdata=spatialdata_io.visium_hd(\"../../sampleP2/binned_outputs/\",fullres_image_file=\"../../sampleP2/Visium_HD_Human_Colon_Cancer_tissue_image.btf\",\n",
    "                               bin_size=bin_size,dataset_id=sample_id,load_all_images=True)\n",
    "sdata"
   ]
  },
  {
   "cell_type": "code",
   "execution_count": null,
   "metadata": {},
   "outputs": [],
   "source": [
    "common_macrophage_markers = [\"CD14\",\"CD68\",\"CD163\",\"HLA-DRB1\",\"HLA-DQA1\",\"HLA-DPA1\",\"S100A8\",\"S100A9\",\"S100A12\",\"MCEMP1\",\"AQP9\",\"IL1B\",\"CXCL8\",\"CCL3\",\"CCL4\",\"HILPDA\",\"HIF1A-AS3\",\"CXCL10\",\"GBP1\",\"CXCL9\",\"IDO1\",\"SPP1\",\"APOC1\",\"ACP5\",\"APOE\",\"CCL19\",\"CD207\",\"CD1A\",\"CD1E\",\"DNASE1L3\",\"C1QA\",\"C1QC\",\"MRC1\",\"SELENOP\",\"FOLR2\",\"F13A1\",\"LYVE1\",\"FCER1A\",\"CCL17\",\"CCL22\",\"CD1C\",\"TOP2A\",\"MKI67\"]\n",
    "gene_expression=common_markers_gene_expression_and_filter(sdata_small, common_macrophage_markers, common_group_name= \"Macrophage\",bin_size=8,quantile=0.7)"
   ]
  },
  {
   "cell_type": "code",
   "execution_count": null,
   "metadata": {},
   "outputs": [],
   "source": [
    "sdata_small.pl.render_images(\"queried_cytassist\").pl.render_shapes(\n",
    "        f\"{sample_id}_square_00{bin_size}um\", color=\"Macrophage\",cmap=new_cmap,method=\"matplotlib\",scale=0.8\n",
    "    ).pl.show(coordinate_systems=\"global\", title=\"Macrophage markers visualization\", legend_fontsize=8,figsize=(5,5),dpi=200)"
   ]
  }
 ],
 "metadata": {
  "language_info": {
   "name": "python"
  }
 },
 "nbformat": 4,
 "nbformat_minor": 2
}
